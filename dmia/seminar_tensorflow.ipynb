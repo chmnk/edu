{
 "cells": [
  {
   "cell_type": "markdown",
   "metadata": {},
   "source": [
    "# Going deeper with Tensorflow\n",
    "\n",
    "In this seminar, we're going to play with [Tensorflow](https://www.tensorflow.org/) and see how it helps us build deep learning models.\n",
    "\n",
    "If you're running this notebook outside the course environment, you'll need to install tensorflow:\n",
    "* `pip install tensorflow` should install cpu-only TF on Linux & Mac OS\n",
    "* If you want GPU support from offset, see [TF install page](https://www.tensorflow.org/install/)"
   ]
  },
  {
   "cell_type": "code",
   "execution_count": 1,
   "metadata": {
    "collapsed": true
   },
   "outputs": [],
   "source": [
    "import tensorflow as tf\n",
    "gpu_options = tf.GPUOptions(allow_growth=True, per_process_gpu_memory_fraction=0.1)\n",
    "s = tf.InteractiveSession(config=tf.ConfigProto(gpu_options=gpu_options))"
   ]
  },
  {
   "cell_type": "markdown",
   "metadata": {},
   "source": [
    "# Warming up\n",
    "For starters, let's implement a python function that computes the sum of squares of numbers from 0 to N-1.\n",
    "* Use numpy or python\n",
    "* An array of numbers 0 to N - numpy.arange(N)"
   ]
  },
  {
   "cell_type": "code",
   "execution_count": 2,
   "metadata": {},
   "outputs": [],
   "source": [
    "import numpy as np\n",
    "import matplotlib.pyplot as plt\n",
    "%matplotlib inline\n",
    "def sum_squares(N):\n",
    "    return np.cumsum(np.arange(0,N)**2)[-1]"
   ]
  },
  {
   "cell_type": "code",
   "execution_count": 3,
   "metadata": {},
   "outputs": [
    {
     "name": "stdout",
     "output_type": "stream",
     "text": [
      "CPU times: user 580 ms, sys: 316 ms, total: 896 ms\nWall time: 906 ms\n"
     ]
    },
    {
     "data": {
      "text/plain": [
       "662921401752298880"
      ]
     },
     "execution_count": 3,
     "metadata": {},
     "output_type": "execute_result"
    }
   ],
   "source": [
    "%%time\n",
    "sum_squares(10**8)"
   ]
  },
  {
   "cell_type": "markdown",
   "metadata": {},
   "source": [
    "# Tensoflow teaser\n",
    "\n",
    "Doing the very same thing"
   ]
  },
  {
   "cell_type": "code",
   "execution_count": 4,
   "metadata": {
    "collapsed": true
   },
   "outputs": [],
   "source": [
    "#I gonna be your function parameter\n",
    "N = tf.placeholder('int64', name=\"input_to_your_function\")\n",
    "\n",
    "#i am a recipe on how to produce sum of squares of arange of N given N\n",
    "result = tf.reduce_sum((tf.range(N)**2))"
   ]
  },
  {
   "cell_type": "code",
   "execution_count": 5,
   "metadata": {
    "collapsed": false
   },
   "outputs": [
    {
     "name": "stdout",
     "output_type": "stream",
     "text": [
      "662921401752298880\nCPU times: user 560 ms, sys: 120 ms, total: 680 ms\nWall time: 386 ms\n"
     ]
    }
   ],
   "source": [
    "%%time\n",
    "#example of computing the same as sum_squares\n",
    "print(result.eval({N:10**8}))"
   ]
  },
  {
   "cell_type": "markdown",
   "metadata": {},
   "source": [
    "# How does it work?\n",
    "1. define placeholders where you'll send inputs;\n",
    "2. make symbolic graph: a recipe for mathematical transformation of those placeholders;\n",
    "3. compute outputs of your graph with particular values for each placeholder\n",
    "  * output.eval({placeholder:value}) \n",
    "  * s.run(output, {placeholder:value})\n",
    "\n",
    "* So far there are two main entities: \"placeholder\" and \"transformation\"\n",
    "* Both can be numbers, vectors, matrices, tensors, etc.\n",
    "* Both can be int32/64, floats of booleans (uint8) of various size.\n",
    "\n",
    "* You can define new transformations as an arbitrary operation on placeholders and other transformations\n",
    " * tf.reduce_sum(tf.arange(N)\\**2) are 3 sequential transformations of placeholder N\n",
    " * There's a tensorflow symbolic version for every numpy function\n",
    "   * `a+b, a/b, a**b, ...` behave just like in numpy\n",
    "   * np.mean -> tf.reduce_mean\n",
    "   * np.arange -> tf.range\n",
    "   * np.cumsum -> tf.cumsum\n",
    "   * If if you can't find the op you need, see the [docs](https://www.tensorflow.org/api_docs/python).\n",
    " \n",
    " \n",
    "Still confused? We gonna fix that."
   ]
  },
  {
   "cell_type": "code",
   "execution_count": 6,
   "metadata": {
    "collapsed": true
   },
   "outputs": [],
   "source": [
    "#Default placeholder that can be arbitrary float32 scalar, vertor, matrix, etc.\n",
    "arbitrary_input = tf.placeholder('float32')\n",
    "\n",
    "#Input vector of arbitrary length\n",
    "input_vector = tf.placeholder('float32',shape=(None,))\n",
    "\n",
    "#Input vector that _must_ have 10 elements and integer type\n",
    "fixed_vector = tf.placeholder('int32',shape=(10,))\n",
    "\n",
    "#Matrix of arbitrary n_rows and 15 columns (e.g. a minibatch your data table)\n",
    "input_matrix = tf.placeholder('float32',shape=(None,15))\n",
    "\n",
    "#You can generally use None whenever you don't need a specific shape\n",
    "input1 = tf.placeholder('float64',shape=(None,100,None))\n",
    "input2 = tf.placeholder('int32',shape=(None,None,3,224,224))"
   ]
  },
  {
   "cell_type": "code",
   "execution_count": 7,
   "metadata": {
    "collapsed": true
   },
   "outputs": [],
   "source": [
    "#elementwise multiplication\n",
    "double_the_vector = input_vector*2\n",
    "\n",
    "#elementwise cosine\n",
    "elementwise_cosine = tf.cos(input_vector)\n",
    "\n",
    "#difference between squared vector and vector itself\n",
    "vector_squares = input_vector**2 - input_vector\n"
   ]
  },
  {
   "cell_type": "code",
   "execution_count": 8,
   "metadata": {},
   "outputs": [],
   "source": [
    "#Practice time: create two vectors of type float32\n",
    "my_vector = tf.placeholder('float32',shape=(None,))\n",
    "my_vector2 = tf.placeholder('float32',shape=(None,))"
   ]
  },
  {
   "cell_type": "code",
   "execution_count": 9,
   "metadata": {},
   "outputs": [],
   "source": [
    "#Write a transformation(recipe):\n",
    "#(vec1)*(vec2) / (sin(vec1) +1)\n",
    "my_transformation = my_vector*my_vector2/(tf.sin(my_vector) + 1)"
   ]
  },
  {
   "cell_type": "code",
   "execution_count": 10,
   "metadata": {},
   "outputs": [
    {
     "name": "stdout",
     "output_type": "stream",
     "text": [
      "Tensor(\"truediv:0\", shape=(?,), dtype=float32)\n"
     ]
    }
   ],
   "source": [
    "print(my_transformation)\n",
    "#it's okay, it's a symbolic graph"
   ]
  },
  {
   "cell_type": "code",
   "execution_count": 11,
   "metadata": {},
   "outputs": [
    {
     "data": {
      "text/plain": [
       "array([ 0.        ,  1.62913239,  2.09501147,  2.62899613,  0.        ], dtype=float32)"
      ]
     },
     "execution_count": 11,
     "metadata": {},
     "output_type": "execute_result"
    }
   ],
   "source": [
    "#\n",
    "dummy = np.arange(5).astype('float32')\n",
    "\n",
    "my_transformation.eval({my_vector:dummy,my_vector2:dummy[::-1]})"
   ]
  },
  {
   "cell_type": "markdown",
   "metadata": {},
   "source": [
    "### Visualizing graphs\n",
    "\n",
    "It's often useful to visualize the computation graph when debugging or optimizing. \n",
    "Interactive visualization is where tensorflow really shines as compared to other frameworks. \n",
    "\n",
    "There's a special instrument for that, called Tensorboard. You can launch it from console:\n",
    "\n",
    "```tensorboard --logdir=/tmp/tboard --port=7007```\n",
    "\n",
    "If you're pathologically afraid of consoles, try this:\n",
    "\n",
    "```os.system(\"tensorboard --logdir=/tmp/tboard --port=7007 &\"```\n",
    "\n",
    "_(but don't tell anyone we taught you that)_"
   ]
  },
  {
   "cell_type": "code",
   "execution_count": 12,
   "metadata": {},
   "outputs": [
    {
     "name": "stdout",
     "output_type": "stream",
     "text": [
      "Port: 7000\n"
     ]
    }
   ],
   "source": [
    "# launch tensorflow the ugly way, uncomment if you need that\n",
    "import os\n",
    "port = 6000 + os.getuid()\n",
    "print(\"Port: %d\" % port)\n",
    "#!killall tensorboard\n",
    "os.system(\"tensorboard --logdir=./tboard --port=%d &\" % port)\n",
    "\n",
    "# show graph to tensorboard\n",
    "writer = tf.summary.FileWriter(\"./tboard\", graph=tf.get_default_graph())\n",
    "writer.close()"
   ]
  },
  {
   "cell_type": "markdown",
   "metadata": {},
   "source": [
    "One basic functionality of tensorboard is drawing graphs. One you've run the cell above, go to `localhost:7007` in your browser and switch to _graphs_ tab in the topbar. \n",
    "\n",
    "Here's what you should see:\n",
    "\n",
    "<img src=\"https://s12.postimg.org/a374bmffx/tensorboard.png\" width=480>\n",
    "\n",
    "Tensorboard also allows you to draw graphs (e.g. learning curves), record images & audio ~~and play flash games~~. This is useful when monitoring learning progress and catching some training issues.\n",
    "\n",
    "One researcher said:\n",
    "```\n",
    "If you spent last four hours of your worktime watching as your algorithm prints numbers and draws figures, you're probably doing deep learning wrong.\n",
    "```"
   ]
  },
  {
   "cell_type": "markdown",
   "metadata": {},
   "source": [
    "You can read more on tensorboard usage [here](https://www.tensorflow.org/get_started/graph_viz)"
   ]
  },
  {
   "cell_type": "markdown",
   "metadata": {},
   "source": [
    "# Do It Yourself\n",
    "\n",
    "__[2 points max]__"
   ]
  },
  {
   "cell_type": "code",
   "execution_count": 13,
   "metadata": {
    "collapsed": true
   },
   "outputs": [],
   "source": [
    "# Quest #1 - implement a function that computes a mean squared error of two input vectors\n",
    "# Your function has to take 2 vectors and return a single number\n",
    "\n",
    "v1 = tf.placeholder('float32',shape=(None,))\n",
    "v2 = tf.placeholder('float32',shape=(None,))\n",
    "\n",
    "mse = tf.reduce_mean((v1-v2)**2)\n",
    "\n",
    "compute_mse = lambda vector1, vector2: mse.eval({v1:vector1, v2:vector2})"
   ]
  },
  {
   "cell_type": "code",
   "execution_count": 14,
   "metadata": {
    "collapsed": true
   },
   "outputs": [
    {
     "name": "stdout",
     "output_type": "stream",
     "text": [
      "All tests passed\n"
     ]
    }
   ],
   "source": [
    "# Tests\n",
    "from sklearn.metrics import mean_squared_error\n",
    "\n",
    "for n in [1,5,10,10**3]:\n",
    "    \n",
    "    elems = [np.arange(n),np.arange(n,0,-1), np.zeros(n),\n",
    "             np.ones(n),np.random.random(n),np.random.randint(100,size=n)]\n",
    "    \n",
    "    for el in elems:\n",
    "        for el_2 in elems:\n",
    "            true_mse = np.array(mean_squared_error(el,el_2))\n",
    "            my_mse = compute_mse(el,el_2)\n",
    "            if not np.allclose(true_mse,my_mse):\n",
    "                print('Wrong result:')\n",
    "                print('mse(%s,%s)' % (el,el_2))\n",
    "                print(\"should be: %f, but your function returned %f\" % (true_mse,my_mse))\n",
    "                raise ValueError(\"Что-то не так\")\n",
    "\n",
    "print(\"All tests passed\")    "
   ]
  },
  {
   "cell_type": "markdown",
   "metadata": {},
   "source": [
    "# variables\n",
    "\n",
    "The inputs and transformations have no value outside function call. This isn't too comfortable if you want your model to have parameters (e.g. network weights) that are always present, but can change their value over time.\n",
    "\n",
    "Tensorflow solves this with `tf.Variable` objects.\n",
    "* You can assign variable a value at any time in your graph\n",
    "* Unlike placeholders, there's no need to explicitly pass values to variables when `s.run(...)`-ing\n",
    "* You can use variables the same way you use transformations \n",
    " "
   ]
  },
  {
   "cell_type": "code",
   "execution_count": 15,
   "metadata": {
    "collapsed": true
   },
   "outputs": [],
   "source": [
    "#creating shared variable\n",
    "shared_vector_1 = tf.Variable(initial_value=np.ones(5))"
   ]
  },
  {
   "cell_type": "code",
   "execution_count": 16,
   "metadata": {},
   "outputs": [
    {
     "name": "stdout",
     "output_type": "stream",
     "text": [
      "initial value [ 1.  1.  1.  1.  1.]\n"
     ]
    }
   ],
   "source": [
    "#initialize variable(s) with initial values\n",
    "s.run(tf.global_variables_initializer())\n",
    "\n",
    "#evaluating shared variable (outside symbolicd graph)\n",
    "print(\"initial value\", s.run(shared_vector_1))\n",
    "\n",
    "# within symbolic graph you use them just as any other inout or transformation, not \"get value\" needed"
   ]
  },
  {
   "cell_type": "code",
   "execution_count": 17,
   "metadata": {},
   "outputs": [
    {
     "name": "stdout",
     "output_type": "stream",
     "text": [
      "new value [ 0.  1.  2.  3.  4.]\n"
     ]
    }
   ],
   "source": [
    "#setting new value\n",
    "s.run(shared_vector_1.assign(np.arange(5)))\n",
    "\n",
    "#getting that new value\n",
    "print(\"new value\", s.run(shared_vector_1))\n"
   ]
  },
  {
   "cell_type": "markdown",
   "metadata": {},
   "source": [
    "# tf.gradients - why graphs matter\n",
    "* Tensorflow can compute derivatives and gradients automatically using the computation graph\n",
    "* Gradients are computed as a product of elementary derivatives via chain rule:\n",
    "\n",
    "$$ {\\partial f(g(x)) \\over \\partial x} = {\\partial f(g(x)) \\over \\partial g(x)}\\cdot {\\partial g(x) \\over \\partial x} $$\n",
    "\n",
    "It can get you the derivative of any graph as long as it knows how to differentiate elementary operations"
   ]
  },
  {
   "cell_type": "code",
   "execution_count": 18,
   "metadata": {
    "collapsed": true
   },
   "outputs": [],
   "source": [
    "my_scalar = tf.placeholder('float32')\n",
    "\n",
    "scalar_squared = my_scalar**2\n",
    "\n",
    "#a derivative of scalar_squared by my_scalar\n",
    "derivative = tf.gradients(scalar_squared, my_scalar)[0]"
   ]
  },
  {
   "cell_type": "code",
   "execution_count": 19,
   "metadata": {},
   "outputs": [
    {
     "data": {
      "image/png": "[encoded data removed]",
      "text/plain": [
       "<matplotlib.figure.Figure at 0x7f2206679b38>"
      ]
     },
     "metadata": {},
     "output_type": "display_data"
    }
   ],
   "source": [
    "import matplotlib.pyplot as plt\n",
    "%matplotlib inline\n",
    "\n",
    "x = np.linspace(-3,3)\n",
    "x_squared, x_squared_der = s.run([scalar_squared,derivative],\n",
    "                                 {my_scalar:x})\n",
    "\n",
    "plt.plot(x, x_squared,label=\"x^2\")\n",
    "plt.plot(x, x_squared_der, label=\"derivative\")\n",
    "plt.legend();"
   ]
  },
  {
   "cell_type": "markdown",
   "metadata": {},
   "source": [
    "# Why that rocks"
   ]
  },
  {
   "cell_type": "code",
   "execution_count": 20,
   "metadata": {
    "collapsed": true
   },
   "outputs": [],
   "source": [
    "my_vector = tf.placeholder('float32',[None])\n",
    "\n",
    "#Compute the gradient of the next weird function over my_scalar and my_vector\n",
    "#warning! Trying to understand the meaning of that function may result in permanent brain damage\n",
    "\n",
    "weird_psychotic_function = tf.reduce_mean((my_vector+my_scalar)**(1+tf.nn.moments(my_vector,[0])[1]) + 1./ tf.atan(my_scalar))/(my_scalar**2 + 1) + 0.01*tf.sin(2*my_scalar**1.5)*(tf.reduce_sum(my_vector)* my_scalar**2)*tf.exp((my_scalar-4)**2)/(1+tf.exp((my_scalar-4)**2))*(1.-(tf.exp(-(my_scalar-4)**2))/(1+tf.exp(-(my_scalar-4)**2)))**2\n",
    "\n",
    "der_by_scalar = tf.gradients(weird_psychotic_function, my_scalar)\n",
    "der_by_vector = tf.gradients(weird_psychotic_function, my_vector)"
   ]
  },
  {
   "cell_type": "code",
   "execution_count": 21,
   "metadata": {},
   "outputs": [
    {
     "data": {
      "image/png": "[encoded data removed]",
      "text/plain": [
       "<matplotlib.figure.Figure at 0x7f21a79c2f98>"
      ]
     },
     "metadata": {},
     "output_type": "display_data"
    }
   ],
   "source": [
    "#Plotting your derivative\n",
    "scalar_space = np.linspace(1, 7, 100)\n",
    "\n",
    "y = [s.run(weird_psychotic_function, {my_scalar:x, my_vector:[1, 2, 3]})\n",
    "     for x in scalar_space]\n",
    "\n",
    "plt.plot(scalar_space, y, label='function')\n",
    "\n",
    "y_der_by_scalar = [s.run(der_by_scalar, {my_scalar:x, my_vector:[1, 2, 3]})\n",
    "     for x in scalar_space]\n",
    "\n",
    "plt.plot(scalar_space, y_der_by_scalar, label='derivative')\n",
    "plt.grid()\n",
    "plt.legend();"
   ]
  },
  {
   "cell_type": "markdown",
   "metadata": {},
   "source": [
    "# Almost done - optimizers\n",
    "\n",
    "While you can perform gradient descent by hand with automatic grads from above, tensorflow also has some optimization methods implemented for you. Recall momentum & rmsprop?"
   ]
  },
  {
   "cell_type": "code",
   "execution_count": 22,
   "metadata": {
    "collapsed": true
   },
   "outputs": [],
   "source": [
    "y_guess = tf.Variable(np.zeros(2,dtype='float32'))\n",
    "y_true = tf.range(1,3,dtype='float32')\n",
    "\n",
    "loss = tf.reduce_mean((y_guess - y_true + tf.random_normal([2]))**2) \n",
    "\n",
    "optimizer = tf.train.MomentumOptimizer(0.01,0.9).minimize(loss,var_list=y_guess)\n",
    "\n",
    "#same, but more detailed:\n",
    "#updates = [[tf.gradients(loss,y_guess)[0], y_guess]]\n",
    "#optimizer = tf.train.MomentumOptimizer(0.01,0.9).apply_gradients(updates)"
   ]
  },
  {
   "cell_type": "code",
   "execution_count": 23,
   "metadata": {},
   "outputs": [],
   "source": [
    "from IPython.display import clear_output\n",
    "\n",
    "s.run(tf.global_variables_initializer())\n",
    "\n",
    "guesses = [s.run(y_guess)]\n",
    "\n",
    "for _ in range(100):\n",
    "    s.run(optimizer)\n",
    "    guesses.append(s.run(y_guess))\n",
    "    \n",
    "    clear_output(True)\n",
    "    # plt.plot(*zip(*guesses),marker='.')\n",
    "    # plt.scatter(*s.run(y_true),c='red')\n",
    "    # plt.show()"
   ]
  },
  {
   "cell_type": "markdown",
   "metadata": {},
   "source": [
    "# Logistic regression example\n",
    "Implement the regular logistic regression training algorithm\n",
    "\n",
    "Tips:\n",
    "* Use a shared variable for weights\n",
    "* X and y are potential inputs\n",
    "* Compile 2 functions:\n",
    " * `train_function(X, y)` - returns error and computes weights' new values __(through updates)__\n",
    " * `predict_fun(X)` - just computes probabilities (\"y\") given data\n",
    " \n",
    " \n",
    "We shall train on a two-class MNIST dataset\n",
    "* please note that target `y` are `{0,1}` and not `{-1,1}` as in some formulae"
   ]
  },
  {
   "cell_type": "code",
   "execution_count": 24,
   "metadata": {},
   "outputs": [
    {
     "name": "stdout",
     "output_type": "stream",
     "text": [
      "y [shape - (360,)]: [0 1 0 1 0 1 0 0 1 1]\nX [shape - (360, 64)]:\n"
     ]
    }
   ],
   "source": [
    "from sklearn.datasets import load_digits\n",
    "mnist = load_digits(2)\n",
    "\n",
    "X,y = mnist.data, mnist.target\n",
    "\n",
    "print(\"y [shape - %s]:\" % (str(y.shape)), y[:10])\n",
    "print(\"X [shape - %s]:\" % (str(X.shape)))"
   ]
  },
  {
   "cell_type": "code",
   "execution_count": 25,
   "metadata": {},
   "outputs": [
    {
     "name": "stdout",
     "output_type": "stream",
     "text": [
      "X:\n [[  0.   0.   5.  13.   9.   1.   0.   0.   0.   0.]\n [  0.   0.   0.  12.  13.   5.   0.   0.   0.   0.]\n [  0.   0.   1.   9.  15.  11.   0.   0.   0.   0.]]\ny:\n [0 1 0 1 0 1 0 0 1 1]\n"
     ]
    },
    {
     "data": {
      "text/plain": [
       "<matplotlib.image.AxesImage at 0x7f21a6d1af98>"
      ]
     },
     "execution_count": 25,
     "metadata": {},
     "output_type": "execute_result"
    },
    {
     "data": {
      "image/png": "[encoded data removed]",
      "text/plain": [
       "<matplotlib.figure.Figure at 0x7f21a762f898>"
      ]
     },
     "metadata": {},
     "output_type": "display_data"
    }
   ],
   "source": [
    "print('X:\\n',X[:3,:10])\n",
    "print('y:\\n',y[:10])\n",
    "plt.imshow(X[0].reshape([8,8]))"
   ]
  },
  {
   "cell_type": "code",
   "execution_count": 26,
   "metadata": {
    "collapsed": true
   },
   "outputs": [],
   "source": [
    "\n",
    "weights = tf.Variable(tf.truncated_normal([len(X[0]), 1]))\n",
    "# biases = tf.Variable(tf.zeros([1, 1]))\n",
    "input_X = tf.placeholder(tf.float32, shape=(None, len(X[0])))  # initial_values \n",
    "input_y = tf.placeholder(tf.float32, shape=(None, 1))\n"
   ]
  },
  {
   "cell_type": "code",
   "execution_count": 27,
   "metadata": {
    "collapsed": true
   },
   "outputs": [],
   "source": [
    "predicted_y = tf.sigmoid(tf.matmul(input_X, weights)) # + biases)\n",
    "# <logistic loss (scalar, mean over sample)>\n",
    "loss = tf.reduce_mean(1 + tf.exp(-(2*input_y-1)*predicted_y))  \n",
    "\n",
    "optimizer = tf.train.GradientDescentOptimizer(0.5).minimize(loss, var_list=(weights))  #, biases))"
   ]
  },
  {
   "cell_type": "code",
   "execution_count": 28,
   "metadata": {
    "collapsed": true
   },
   "outputs": [],
   "source": [
    "# <compile function that takes X and computes probabilities of y>\n",
    "predict_function = tf.sigmoid(tf.matmul(input_X, weights))  # + biases)\n",
    "predict_function_bin = lambda x: 1*(predict_function.eval({input_X:x}) > 0.5)\n",
    "# train_function = lambda s, dct: s.run([optimizer, loss], feed_dict=dct)"
   ]
  },
  {
   "cell_type": "code",
   "execution_count": 29,
   "metadata": {
    "collapsed": true
   },
   "outputs": [],
   "source": [
    "from sklearn.model_selection import train_test_split\n",
    "X_train, X_test, y_train, y_test = train_test_split(X, y)\n",
    "y_train = y_train.reshape((len(y_train), 1))\n",
    "y_test = y_test.reshape((len(y_test), 1))"
   ]
  },
  {
   "cell_type": "code",
   "execution_count": 30,
   "metadata": {},
   "outputs": [
    {
     "name": "stdout",
     "output_type": "stream",
     "text": [
      "loss at iter 0:2.7275\ntest auc: 0.198529411765\ntest auc: 0.207015810277\nloss at iter 1:2.7213\ntest auc: 0.205937225637\ntest auc: 0.207015810277\nloss at iter 2:2.7189\ntest auc: 0.205937225637\ntest auc: 0.217885375494\nloss at iter 3:2.7157\ntest auc: 0.231672519754\ntest auc: 0.239130434783\nloss at iter 4:2.7030\ntest auc: 0.242647058824\ntest auc: 0.25\n"
     ]
    },
    {
     "data": {
      "image/png": "[encoded data removed]",
      "text/plain": [
       "<matplotlib.figure.Figure at 0x7f21a6714710>"
      ]
     },
     "metadata": {},
     "output_type": "display_data"
    }
   ],
   "source": [
    "from sklearn.metrics import roc_auc_score\n",
    "\n",
    "init = tf.global_variables_initializer()\n",
    "batch_size = 100\n",
    "n_batches = int(len(y_train)/batch_size)\n",
    "with tf.Session() as s:\n",
    "    s.run(init)\n",
    "    for i in range(5):  \n",
    "        # for step in range(n_batches):\n",
    "        # offset = (step * batch_size) % (len(y_train) - batch_size)\n",
    "        # batch_data = X_train[offset:(offset + batch_size), :]\n",
    "        # batch_labels = y_train[offset:(offset + batch_size), :]\n",
    "        batch_data = X_train\n",
    "        batch_labels = y_train\n",
    "        # <run optimizer operation>\n",
    "        data_dict = {input_X:batch_data, input_y:batch_labels}\n",
    "        _, loss_i = s.run([optimizer, loss], feed_dict=data_dict)\n",
    "        \n",
    "        print(\"loss at iter %i:%.4f\" % (i, loss_i))\n",
    "        print(\"test auc:\", roc_auc_score(y_train, predict_function_bin(X_train)))\n",
    "        print(\"test auc:\", roc_auc_score(y_test, predict_function_bin(X_test)))\n",
    "        \n",
    "    # print (\"resulting weights:\")\n",
    "    # what are \"shared_weights\"? you have only asked to define \"weights\"\n",
    "    # plt.imshow(shared_weights.get_value().reshape(8, -1))\n",
    "    plt.imshow(weights.eval().reshape(8, -1))\n",
    "    plt.colorbar();"
   ]
  },
  {
   "cell_type": "markdown",
   "metadata": {},
   "source": [
    "# Bonus: my1stNN\n",
    "Your ultimate task for this week is to build your first neural network [almost] from scratch and pure tensorflow.\n",
    "\n",
    "This time you will same digit recognition problem, but at a larger scale\n",
    "* images are now 28x28\n",
    "* 10 different digits\n",
    "* 50k samples\n",
    "\n",
    "Note that you are not required to build 152-layer monsters here. A 2-layer (one hidden, one output) NN should already have ive you an edge over logistic regression.\n",
    "\n",
    "__[bonus score]__\n",
    "If you've already beaten logistic regression with a two-layer net, but enthusiasm still ain't gone, you can try improving the test accuracy even further! The milestones would be 95%/97.5%/98.5% accuraсy on test set.\n",
    "\n",
    "__SPOILER!__\n",
    "At the end of the notebook you will find a few tips and frequently made mistakes. If you feel enough might to shoot yourself in the foot without external assistance, we encourage you to do so, but if you encounter any unsurpassable issues, please do look there before mailing us."
   ]
  },
  {
   "cell_type": "code",
   "execution_count": 31,
   "metadata": {
    "collapsed": true
   },
   "outputs": [
    {
     "name": "stdout",
     "output_type": "stream",
     "text": [
      "(50000, 28, 28) (50000,)\n(50000, 784)"
     ]
    },
    {
     "name": "stdout",
     "output_type": "stream",
     "text": [
      " (50000, 10)\n"
     ]
    }
   ],
   "source": [
    "import sys\n",
    "sys.path.append('/home/maria/Dropbox/edu/dmia/nn')\n",
    "from mnist import load_dataset\n",
    "\n",
    "#[down]loading the original MNIST dataset.\n",
    "#Please note that you should only train your NN on _train sample,\n",
    "# _val can be used to evaluate out-of-sample error, compare models or perform early-stopping\n",
    "# _test should be hidden under a rock untill final evaluation... But we both know it is near impossible to catch you evaluating on it.\n",
    "X_train,y_train,X_val,y_val,X_test,y_test = load_dataset()\n",
    "\n",
    "print (X_train.shape,y_train.shape)\n",
    "img_size = np.shape(X_train[0])[0]\n",
    "X_train = X_train.reshape((len(X_train), img_size*img_size))\n",
    "X_val = X_val.reshape((len(X_val), img_size*img_size))\n",
    "X_test = X_test.reshape((len(X_test), img_size*img_size))\n",
    "y_train = np.array([[1 if ytr == i else 0 for i in range(10)] for ytr in y_train])\n",
    "y_val = np.array([[1 if ytr == i else 0 for i in range(10)] for ytr in y_val])\n",
    "y_test = np.array([[1 if ytr == i else 0 for i in range(10)] for ytr in y_test])\n",
    "print (X_train.shape,y_train.shape)"
   ]
  },
  {
   "cell_type": "code",
   "execution_count": 32,
   "metadata": {
    "collapsed": false
   },
   "outputs": [
    {
     "data": {
      "text/plain": [
       "<matplotlib.image.AxesImage at 0x7f21aa066198>"
      ]
     },
     "execution_count": 32,
     "metadata": {},
     "output_type": "execute_result"
    },
    {
     "data": {
      "image/png": "[encoded data removed]",
      "text/plain": [
       "<matplotlib.figure.Figure at 0x7f21a762fb38>"
      ]
     },
     "metadata": {},
     "output_type": "display_data"
    }
   ],
   "source": [
    "plt.imshow(X_train[0].reshape(28, 28))"
   ]
  },
  {
   "cell_type": "code",
   "execution_count": 33,
   "metadata": {
    "collapsed": true
   },
   "outputs": [],
   "source": [
    "hidden_sizes = [200, 50]\n",
    "nonlin = [tf.nn.sigmoid, tf.nn.relu]\n",
    "graph = tf.Graph()\n",
    "train_X = tf.placeholder(tf.float32, shape=(None, img_size * img_size))\n",
    "train_y = tf.placeholder(tf.float32, shape=(None, 10))\n",
    "# #   \n",
    "weights = [tf.Variable(tf.truncated_normal([img_size * img_size, hidden_sizes[0]]))]\n",
    "biases = [tf.Variable(tf.zeros([hidden_sizes[0]]))]\n",
    "for i in range(len(hidden_sizes)-1):\n",
    "    weights.append(tf.Variable(tf.truncated_normal([hidden_sizes[i], hidden_sizes[i+1]])))\n",
    "    biases.append(tf.Variable(tf.zeros([hidden_sizes[i+1]])))\n",
    "weights.append(tf.Variable(tf.truncated_normal([hidden_sizes[-1], 10])))\n",
    "biases.append(tf.Variable(tf.zeros([10])))\n"
   ]
  },
  {
   "cell_type": "code",
   "execution_count": 34,
   "metadata": {
    "collapsed": true
   },
   "outputs": [],
   "source": [
    "def forward_prop(x, w, b, nonlin):\n",
    "    h = tf.matmul(x, w[0]) + b[0]\n",
    "    for i in range(len(nonlin)):\n",
    "        h = nonlin[i](h)\n",
    "        h = tf.matmul(h, w[i+1]) + b[i+1]\n",
    "    return h\n",
    "\n",
    "# h = tf.matmul(tf.nn.relu(tf.matmul(train_X, weights[0]) + biases[0]),  weights[1]) + biases[1]\n",
    "h = forward_prop(train_X, weights, biases, nonlin)\n",
    "loss = tf.reduce_mean(tf.nn.softmax_cross_entropy_with_logits(labels=train_y, logits=h))\n",
    "# optimizer = tf.train.GradientDescentOptimizer(0.5).minimize(loss)\n",
    "# optimizer = tf.train.MomentumOptimizer(0.01,0.9).minimize(loss)\n",
    "optimizer = tf.train.AdamOptimizer(0.01).minimize(loss)\n",
    "predict_y = lambda x: tf.nn.softmax(forward_prop(x, weights, biases))\n",
    "\n",
    "get_accuracy = lambda y, y_true: (np.sum(np.argmax(y_true, 1) == np.argmax(y, 1)) / len(y))"
   ]
  },
  {
   "cell_type": "code",
   "execution_count": 35,
   "metadata": {
    "collapsed": false
   },
   "outputs": [
    {
     "name": "stdout",
     "output_type": "stream",
     "text": [
      "Minibatch training       loss, epoch 0  : 26.467\nMinibatch validation accuracy, epoch 0  : 0.188"
     ]
    },
    {
     "name": "stdout",
     "output_type": "stream",
     "text": [
      "\nMinibatch training       loss, epoch 0  : 0.488"
     ]
    },
    {
     "name": "stdout",
     "output_type": "stream",
     "text": [
      "\nMinibatch validation accuracy, epoch 0  : 0.872"
     ]
    },
    {
     "name": "stdout",
     "output_type": "stream",
     "text": [
      "\nMinibatch training       loss, epoch 1  : 0.410"
     ]
    },
    {
     "name": "stdout",
     "output_type": "stream",
     "text": [
      "\nMinibatch validation accuracy, epoch 1  : 0.893"
     ]
    },
    {
     "name": "stdout",
     "output_type": "stream",
     "text": [
      "\nMinibatch training       loss, epoch 1  : 0.214"
     ]
    },
    {
     "name": "stdout",
     "output_type": "stream",
     "text": [
      "\nMinibatch validation accuracy, epoch 1  : 0.907"
     ]
    },
    {
     "name": "stdout",
     "output_type": "stream",
     "text": [
      "\nMinibatch training       loss, epoch 2  : 0.410"
     ]
    },
    {
     "name": "stdout",
     "output_type": "stream",
     "text": [
      "\nMinibatch validation accuracy, epoch 2  : 0.899"
     ]
    },
    {
     "name": "stdout",
     "output_type": "stream",
     "text": [
      "\nMinibatch training       loss, epoch 2  : 0.267"
     ]
    },
    {
     "name": "stdout",
     "output_type": "stream",
     "text": [
      "\nMinibatch validation accuracy, epoch 2  : 0.914"
     ]
    },
    {
     "name": "stdout",
     "output_type": "stream",
     "text": [
      "\nMinibatch training       loss, epoch 3  : 0.101"
     ]
    },
    {
     "name": "stdout",
     "output_type": "stream",
     "text": [
      "\nMinibatch validation accuracy, epoch 3  : 0.926"
     ]
    },
    {
     "name": "stdout",
     "output_type": "stream",
     "text": [
      "\nMinibatch training       loss, epoch 3  : 0.518"
     ]
    },
    {
     "name": "stdout",
     "output_type": "stream",
     "text": [
      "\nMinibatch validation accuracy, epoch 3  : 0.926"
     ]
    },
    {
     "name": "stdout",
     "output_type": "stream",
     "text": [
      "\nMinibatch training       loss, epoch 4  : 0.156"
     ]
    },
    {
     "name": "stdout",
     "output_type": "stream",
     "text": [
      "\nMinibatch validation accuracy, epoch 4  : 0.910"
     ]
    },
    {
     "name": "stdout",
     "output_type": "stream",
     "text": [
      "\nMinibatch training       loss, epoch 4  : 0.134"
     ]
    },
    {
     "name": "stdout",
     "output_type": "stream",
     "text": [
      "\nMinibatch validation accuracy, epoch 4  : 0.927"
     ]
    },
    {
     "name": "stdout",
     "output_type": "stream",
     "text": [
      "\nMinibatch training       loss, epoch 5  : 0.412"
     ]
    },
    {
     "name": "stdout",
     "output_type": "stream",
     "text": [
      "\nMinibatch validation accuracy, epoch 5  : 0.913"
     ]
    },
    {
     "name": "stdout",
     "output_type": "stream",
     "text": [
      "\nMinibatch training       loss, epoch 5  : 0.214"
     ]
    },
    {
     "name": "stdout",
     "output_type": "stream",
     "text": [
      "\nMinibatch validation accuracy, epoch 5  : 0.917"
     ]
    },
    {
     "name": "stdout",
     "output_type": "stream",
     "text": [
      "\nMinibatch training       loss, epoch 6  : 0.180"
     ]
    },
    {
     "name": "stdout",
     "output_type": "stream",
     "text": [
      "\nMinibatch validation accuracy, epoch 6  : 0.918"
     ]
    },
    {
     "name": "stdout",
     "output_type": "stream",
     "text": [
      "\nMinibatch training       loss, epoch 6  : 0.521"
     ]
    },
    {
     "name": "stdout",
     "output_type": "stream",
     "text": [
      "\nMinibatch validation accuracy, epoch 6  : 0.903"
     ]
    },
    {
     "name": "stdout",
     "output_type": "stream",
     "text": [
      "\nMinibatch training       loss, epoch 7  : 0.204"
     ]
    },
    {
     "name": "stdout",
     "output_type": "stream",
     "text": [
      "\nMinibatch validation accuracy, epoch 7  : 0.911"
     ]
    },
    {
     "name": "stdout",
     "output_type": "stream",
     "text": [
      "\nMinibatch training       loss, epoch 7  : 0.244"
     ]
    },
    {
     "name": "stdout",
     "output_type": "stream",
     "text": [
      "\nMinibatch validation accuracy, epoch 7  : 0.920"
     ]
    },
    {
     "name": "stdout",
     "output_type": "stream",
     "text": [
      "\nMinibatch training       loss, epoch 8  : 0.448"
     ]
    },
    {
     "name": "stdout",
     "output_type": "stream",
     "text": [
      "\nMinibatch validation accuracy, epoch 8  : 0.911"
     ]
    },
    {
     "name": "stdout",
     "output_type": "stream",
     "text": [
      "\nMinibatch training       loss, epoch 8  : 0.382"
     ]
    },
    {
     "name": "stdout",
     "output_type": "stream",
     "text": [
      "\nMinibatch validation accuracy, epoch 8  : 0.909"
     ]
    },
    {
     "name": "stdout",
     "output_type": "stream",
     "text": [
      "\nMinibatch training       loss, epoch 9  : 0.309"
     ]
    },
    {
     "name": "stdout",
     "output_type": "stream",
     "text": [
      "\nMinibatch validation accuracy, epoch 9  : 0.926"
     ]
    },
    {
     "name": "stdout",
     "output_type": "stream",
     "text": [
      "\nMinibatch training       loss, epoch 9  : 0.350"
     ]
    },
    {
     "name": "stdout",
     "output_type": "stream",
     "text": [
      "\nMinibatch validation accuracy, epoch 9  : 0.927"
     ]
    },
    {
     "name": "stdout",
     "output_type": "stream",
     "text": [
      "\nMinibatch training       loss, epoch 10  : 0.510"
     ]
    },
    {
     "name": "stdout",
     "output_type": "stream",
     "text": [
      "\nMinibatch validation accuracy, epoch 10  : 0.921"
     ]
    },
    {
     "name": "stdout",
     "output_type": "stream",
     "text": [
      "\nMinibatch training       loss, epoch 10  : 0.431"
     ]
    },
    {
     "name": "stdout",
     "output_type": "stream",
     "text": [
      "\nMinibatch validation accuracy, epoch 10  : 0.924"
     ]
    },
    {
     "name": "stdout",
     "output_type": "stream",
     "text": [
      "\nMinibatch training       loss, epoch 11  : 0.308"
     ]
    },
    {
     "name": "stdout",
     "output_type": "stream",
     "text": [
      "\nMinibatch validation accuracy, epoch 11  : 0.929"
     ]
    },
    {
     "name": "stdout",
     "output_type": "stream",
     "text": [
      "\nMinibatch training       loss, epoch 11  : 0.263"
     ]
    },
    {
     "name": "stdout",
     "output_type": "stream",
     "text": [
      "\nMinibatch validation accuracy, epoch 11  : 0.923"
     ]
    },
    {
     "name": "stdout",
     "output_type": "stream",
     "text": [
      "\nMinibatch training       loss, epoch 12  : 0.380"
     ]
    },
    {
     "name": "stdout",
     "output_type": "stream",
     "text": [
      "\nMinibatch validation accuracy, epoch 12  : 0.929"
     ]
    },
    {
     "name": "stdout",
     "output_type": "stream",
     "text": [
      "\nMinibatch training       loss, epoch 12  : 0.508"
     ]
    },
    {
     "name": "stdout",
     "output_type": "stream",
     "text": [
      "\nMinibatch validation accuracy, epoch 12  : 0.912"
     ]
    },
    {
     "name": "stdout",
     "output_type": "stream",
     "text": [
      "\nMinibatch training       loss, epoch 13  : 0.305"
     ]
    },
    {
     "name": "stdout",
     "output_type": "stream",
     "text": [
      "\nMinibatch validation accuracy, epoch 13  : 0.914"
     ]
    },
    {
     "name": "stdout",
     "output_type": "stream",
     "text": [
      "\nMinibatch training       loss, epoch 13  : 0.129"
     ]
    },
    {
     "name": "stdout",
     "output_type": "stream",
     "text": [
      "\nMinibatch validation accuracy, epoch 13  : 0.932"
     ]
    },
    {
     "name": "stdout",
     "output_type": "stream",
     "text": [
      "\nMinibatch training       loss, epoch 14  : 0.197"
     ]
    },
    {
     "name": "stdout",
     "output_type": "stream",
     "text": [
      "\nMinibatch validation accuracy, epoch 14  : 0.932"
     ]
    },
    {
     "name": "stdout",
     "output_type": "stream",
     "text": [
      "\nMinibatch training       loss, epoch 14  : 0.295"
     ]
    },
    {
     "name": "stdout",
     "output_type": "stream",
     "text": [
      "\nMinibatch validation accuracy, epoch 14  : 0.925"
     ]
    },
    {
     "name": "stdout",
     "output_type": "stream",
     "text": [
      "\nMinibatch training       loss, epoch 15  : 0.297"
     ]
    },
    {
     "name": "stdout",
     "output_type": "stream",
     "text": [
      "\nMinibatch validation accuracy, epoch 15  : 0.934"
     ]
    },
    {
     "name": "stdout",
     "output_type": "stream",
     "text": [
      "\nMinibatch training       loss, epoch 15  : 0.116"
     ]
    },
    {
     "name": "stdout",
     "output_type": "stream",
     "text": [
      "\nMinibatch validation accuracy, epoch 15  : 0.932"
     ]
    },
    {
     "name": "stdout",
     "output_type": "stream",
     "text": [
      "\nMinibatch training       loss, epoch 16  : 0.447"
     ]
    },
    {
     "name": "stdout",
     "output_type": "stream",
     "text": [
      "\nMinibatch validation accuracy, epoch 16  : 0.916"
     ]
    },
    {
     "name": "stdout",
     "output_type": "stream",
     "text": [
      "\nMinibatch training       loss, epoch 16  : 0.202"
     ]
    },
    {
     "name": "stdout",
     "output_type": "stream",
     "text": [
      "\nMinibatch validation accuracy, epoch 16  : 0.924"
     ]
    },
    {
     "name": "stdout",
     "output_type": "stream",
     "text": [
      "\nMinibatch training       loss, epoch 17  : 0.127"
     ]
    },
    {
     "name": "stdout",
     "output_type": "stream",
     "text": [
      "\nMinibatch validation accuracy, epoch 17  : 0.922"
     ]
    },
    {
     "name": "stdout",
     "output_type": "stream",
     "text": [
      "\nMinibatch training       loss, epoch 17  : 0.589"
     ]
    },
    {
     "name": "stdout",
     "output_type": "stream",
     "text": [
      "\nMinibatch validation accuracy, epoch 17  : 0.913"
     ]
    },
    {
     "name": "stdout",
     "output_type": "stream",
     "text": [
      "\nMinibatch training       loss, epoch 18  : 0.441"
     ]
    },
    {
     "name": "stdout",
     "output_type": "stream",
     "text": [
      "\nMinibatch validation accuracy, epoch 18  : 0.922"
     ]
    },
    {
     "name": "stdout",
     "output_type": "stream",
     "text": [
      "\nMinibatch training       loss, epoch 18  : 0.536"
     ]
    },
    {
     "name": "stdout",
     "output_type": "stream",
     "text": [
      "\nMinibatch validation accuracy, epoch 18  : 0.897"
     ]
    },
    {
     "name": "stdout",
     "output_type": "stream",
     "text": [
      "\nMinibatch training       loss, epoch 19  : 0.167"
     ]
    },
    {
     "name": "stdout",
     "output_type": "stream",
     "text": [
      "\nMinibatch validation accuracy, epoch 19  : 0.935"
     ]
    },
    {
     "name": "stdout",
     "output_type": "stream",
     "text": [
      "\nMinibatch training       loss, epoch 19  : 0.270"
     ]
    },
    {
     "name": "stdout",
     "output_type": "stream",
     "text": [
      "\nMinibatch validation accuracy, epoch 19  : 0.922"
     ]
    },
    {
     "name": "stdout",
     "output_type": "stream",
     "text": [
      "\nTest accuracy: 0.927"
     ]
    },
    {
     "name": "stdout",
     "output_type": "stream",
     "text": [
      "\n"
     ]
    }
   ],
   "source": [
    "n_epochs = 20\n",
    "batch_size = 50\n",
    "n_batches = int(len(X_train)/batch_size)\n",
    "with tf.Session() as session:\n",
    "    tf.global_variables_initializer().run()\n",
    "    for i_epoch in range(n_epochs): # I don't know if that each epoch covers all data...\n",
    "        for i in range(1000): # n_batches-1): #n_batches-1): \n",
    "            to_take = np.random.choice([j for j in range(len(X_train))], batch_size)\n",
    "            # X_batch_i = X_train[int(n_batches*i): n_batches * (i+1), :]\n",
    "            # y_batch_i = y_train[int(n_batches*i): n_batches * (i+1), :]\n",
    "            X_batch_i = X_train[to_take, :]\n",
    "            y_batch_i = y_train[to_take, :]\n",
    "            data_dict = {train_X: X_batch_i,\n",
    "                         train_y: y_batch_i}\n",
    "            _, loss_i = session.run([optimizer, loss], feed_dict=data_dict)\n",
    "            del data_dict\n",
    "            if (i%500) == 0:\n",
    "                print(\"Minibatch training       loss, epoch {0}  : {1:2.3f}\".format(i_epoch, loss_i))\n",
    "                # print(\"Minibatch validation accuracy, epoch {0}  : {1:2.3f}\".\n",
    "                #       format(i_epoch, get_accuracy(forward_prop(X_train, weights, biases, nonlin).eval(), y_train)))\n",
    "                print(\"Minibatch validation accuracy, epoch {0}  : {1:2.3f}\".\n",
    "                      format(i_epoch, get_accuracy(forward_prop(X_val, weights, biases, nonlin).eval(), y_val)))\n",
    "    print(\"Test accuracy: {0:2.3f}\".format(get_accuracy(forward_prop(X_test, weights, biases, nonlin).eval(), y_test)))\n"
   ]
  },
  {
   "cell_type": "code",
   "execution_count": 36,
   "metadata": {
    "collapsed": true
   },
   "outputs": [],
   "source": [
    "# <predict & evaluate on test here, right? No cheating pls.>\n",
    "# I am going to improve the accuracy this Friday..."
   ]
  },
  {
   "cell_type": "markdown",
   "metadata": {},
   "source": [
    "```\n",
    "\n",
    "```\n",
    "\n",
    "```\n",
    "\n",
    "```\n",
    "\n",
    "```\n",
    "\n",
    "```\n",
    "\n",
    "```\n",
    "\n",
    "```\n",
    "\n",
    "```\n",
    "\n",
    "```\n",
    "\n",
    "```\n",
    "\n",
    "```\n",
    "\n",
    "```\n",
    "\n",
    "```\n",
    "\n",
    "```\n",
    "\n",
    "```\n",
    "\n",
    "\n",
    "# SPOILERS!\n",
    "\n",
    "Recommended pipeline\n",
    "\n",
    "* Adapt logistic regression from previous assignment to classify some number against others (e.g. zero vs nonzero)\n",
    "* Generalize it to multiclass logistic regression.\n",
    "  - Either try to remember lecture 0 or google it.\n",
    "  - Instead of weight vector you'll have to use matrix (feature_id x class_id)\n",
    "  - softmax (exp over sum of exps) can implemented manually or as T.nnet.softmax (stable)\n",
    "  - probably better to use STOCHASTIC gradient descent (minibatch)\n",
    "    - in which case sample should probably be shuffled (or use random subsamples on each iteration)\n",
    "* Add a hidden layer. Now your logistic regression uses hidden neurons instead of inputs.\n",
    "  - Hidden layer uses the same math as output layer (ex-logistic regression), but uses some nonlinearity (sigmoid) instead of softmax\n",
    "  - You need to train both layers, not just output layer :)\n",
    "  - Do not initialize layers with zeros (due to symmetry effects). A gaussian noize with small sigma will do.\n",
    "  - 50 hidden neurons and a sigmoid nonlinearity will do for a start. Many ways to improve. \n",
    "  - In ideal casae this totals to 2 .dot's, 1 softmax and 1 sigmoid\n",
    "  - __make sure this neural network works better than logistic regression__\n",
    "  \n",
    "* Now's the time to try improving the network. Consider layers (size, neuron count),  nonlinearities, optimization methods, initialization - whatever you want, but please avoid convolutions for now."
   ]
  }
 ],
 "metadata": {
  "celltoolbar": "Slideshow",
  "kernelspec": {
   "display_name": "Python 3",
   "language": "python",
   "name": "python3"
  },
  "language_info": {
   "codemirror_mode": {
    "name": "ipython",
    "version": 3
   },
   "file_extension": ".py",
   "mimetype": "text/x-python",
   "name": "python",
   "nbconvert_exporter": "python",
   "pygments_lexer": "ipython3",
   "version": "3.6.1"
  }
 },
 "nbformat": 4,
 "nbformat_minor": 1
}
